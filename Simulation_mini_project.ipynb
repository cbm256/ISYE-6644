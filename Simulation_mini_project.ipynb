{
 "cells": [
  {
   "cell_type": "markdown",
   "metadata": {},
   "source": [
    "# ISYE 6644 Project 1 - Two Person Game \n",
    "\n",
    "### March 12, 2021"
   ]
  },
  {
   "cell_type": "markdown",
   "metadata": {},
   "source": [
    "### Rules of the Game:\n",
    "\n",
    "I am working on the two player game problem: There are two players, A and B. At the beginning of the game, each starts with 4 coins, and there are 2 coins in the pot. A goes first, then B, then A, ... \n",
    "During a particular player's turn, the player tosses a 6 sided die. If the player rolls a:\n",
    "\n",
    "- 1: then the player does nothing. \n",
    "- 2: then the player takes all the coins in the pot.\n",
    "- 3: then the player takes half of the coins in the pot (rounded down).\n",
    "- 4, 5, or 6: Then the player puts a coin in the pot. \n",
    "\n",
    "A player loses and the game is over if they are unable to perform the task (i.e. if they have 0 coins and need to place one in the pot). We define a cycle as A and then B completing their turns. We would like to determine the expected number of cycles a game will last before a player goes out. "
   ]
  },
  {
   "cell_type": "markdown",
   "metadata": {},
   "source": [
    "### Setup the required libraries. "
   ]
  },
  {
   "cell_type": "code",
   "execution_count": 1,
   "metadata": {},
   "outputs": [],
   "source": [
    "## import the necessary libraries \n",
    "import simpy\n",
    "import random\n",
    "import statistics\n",
    "import math\n",
    "import numpy as np\n",
    "import pandas as pd"
   ]
  },
  {
   "cell_type": "markdown",
   "metadata": {},
   "source": [
    "### Create the simulation, defining a function game()\n",
    "\n",
    "The cell block below defines the function game(), which will be used to simulate the game and record the output. \n",
    "\n",
    "The function initializes each player with 4 coins each, and the pot with 2 coins. \n",
    "\n",
    "The function uses the pseudo-random number generator, random.randint(), to roll the die, which has a uniform distribution with each die roll randomly selects a number between 1 and 6 inclusive. \n",
    "\n",
    "The function defines the rules of the game, and with each roll updates each player's total coins and the pot's coins. \n",
    "\n",
    "The function repeats until one of the players loses, i.e. reaches a negative value of coins. \n",
    "\n",
    "The function tracks each die roll, the first roll for each player, the final value of coins for each player and the pot, the winner and loser of each game, and the total number of cycles for each game, and returns all of these values when the game is over. "
   ]
  },
  {
   "cell_type": "code",
   "execution_count": 2,
   "metadata": {},
   "outputs": [],
   "source": [
    "#define the function game() which will be used to simulate the game \n",
    "def game():\n",
    "    #initialize each player and the pot \n",
    "    A = 4\n",
    "    B = 4\n",
    "    Pot = 2\n",
    "    # initialize the counter for the number of cycles the game has completed \n",
    "    reps = 1\n",
    "    #initialize lists for tracking each players' rolls \n",
    "    a_rolls = []\n",
    "    b_rolls = []\n",
    "    # define the rules of the game for player A and B, and run until one of them cannot complete their transaction\n",
    "    # 'while' requires the game to run until one of the players can no longer complete their transaction\n",
    "    while A >= 0 and B >= 0:\n",
    "        # die toss for player A using a PRN\n",
    "        a = random.randint(1,6)\n",
    "        # if the die toss is 1, then Player A and the Pot remain the same \n",
    "        if a == 1:\n",
    "            A = A\n",
    "            Pot = Pot\n",
    "        # if the die toss is 2, then Player A takes all of the coins from the pot, and the pot is now at 0 coins \n",
    "        elif a == 2:\n",
    "            A += Pot\n",
    "            Pot = 0\n",
    "        # if the die toss is 3, then Player A takes half of the coins from the pot, rounded down\n",
    "        elif a == 3:\n",
    "            A += Pot//2\n",
    "            Pot -= Pot//2\n",
    "        # if the die toss is 4, 5, or 6, then Player A puts 1 coin into the pot\n",
    "        else:\n",
    "            Pot += 1\n",
    "            A -= 1\n",
    "        # append the roll to the a_rolls list, for use in performing analytics later \n",
    "        a_rolls.append(a)\n",
    "        # die toss for Player B using a PRN\n",
    "        b = random.randint(1,6)\n",
    "        # if the die toss is 1, then Player B and the pot remain the same\n",
    "        if b == 1:\n",
    "            B = B\n",
    "            Pot = Pot\n",
    "        # if the die toss is 2, then Player B takes all of the coins from the pot, and the pot is now at 0 coins\n",
    "        elif b == 2:\n",
    "            B += Pot\n",
    "            Pot = 0\n",
    "        # if the die toss is 3, then player B takes half of the coins from the pot, rounded down \n",
    "        elif b == 3:\n",
    "            B += Pot//2\n",
    "            Pot -= Pot//2\n",
    "        # if the die toss is 4, 5, or 6, then Player B puts 1 coin in the pot\n",
    "        else:\n",
    "            Pot += 1\n",
    "            B -= 1\n",
    "        # append the roll to the b_rolls list, for use in performing analytics later \n",
    "        b_rolls.append(b)\n",
    "        # since a cycle has completed, add 1 to the sum of cycles the game has completed \n",
    "        reps += 1\n",
    "        # check if each player has a negative balance, i.e. they have no coins left and are unable to complete a task\n",
    "        if A < 0:\n",
    "            # assign a winner and a loser \n",
    "            winner = \"B\"\n",
    "            loser = \"A\"\n",
    "            total_reps = reps-1\n",
    "        elif B < 0:\n",
    "            winner = \"A\"\n",
    "            loser = \"B\"\n",
    "            total_reps = reps-1\n",
    "        first_roll_a = a_rolls[0]\n",
    "        first_roll_b = b_rolls[0]\n",
    "    # return everything we have been tracking: each roll of the die for each player,\n",
    "        # the final balance for each player and the pot,\n",
    "        # the winner and the loser of each game\n",
    "        # and the total number of cycles that were completed during the game \n",
    "    return a_rolls, b_rolls, first_roll_a, first_roll_b,  A, B, Pot, winner, loser, total_reps"
   ]
  },
  {
   "cell_type": "markdown",
   "metadata": {},
   "source": [
    "### Define another function, game_cycles(), just to track the number of cycles for each game \n",
    "\n",
    "This function operates exactly the same as game(), but only returns the number of cycles for each game. This will be used to iterate the simulation, and find the expected value of the number of cycles per game for different numbers of iterations. "
   ]
  },
  {
   "cell_type": "code",
   "execution_count": 3,
   "metadata": {},
   "outputs": [],
   "source": [
    "# define a function, game_cycles() to be used to complete different ranges of games in order to produce an expected value \n",
    "# this functions the same way as games(), expect it only returns the total number of cycles played for each game \n",
    "def game_cycles():\n",
    "    A = 4\n",
    "    B = 4\n",
    "    Pot = 2\n",
    "    reps = 1\n",
    "    a_rolls = []\n",
    "    b_rolls = []\n",
    "    winner = []\n",
    "    loser = []\n",
    "    total_reps = []\n",
    "    while A >= 0 and B >= 0:\n",
    "        a = random.randint(1,6)\n",
    "        if a == 1:\n",
    "            A = A\n",
    "            Pot = Pot\n",
    "        elif a == 2:\n",
    "            A += Pot\n",
    "            Pot = 0\n",
    "        elif a == 3:\n",
    "            A += Pot//2\n",
    "            Pot -= Pot//2\n",
    "        else:\n",
    "            Pot += 1\n",
    "            A -= 1\n",
    "        a_rolls.append(a)\n",
    "        b = random.randint(1,6)\n",
    "        if b == 1:\n",
    "            B = B\n",
    "            Pot = Pot\n",
    "        elif b == 2:\n",
    "            B += Pot\n",
    "            Pot = 0\n",
    "        elif b == 3:\n",
    "            B += Pot//2\n",
    "            Pot -= Pot//2\n",
    "        else:\n",
    "            Pot += 1\n",
    "            B -= 1\n",
    "        b_rolls.append(b)\n",
    "        reps += 1\n",
    "        if A < 0:\n",
    "            winner = \"B\"\n",
    "            loser = \"A\"\n",
    "            total_reps = reps-1\n",
    "        elif B < 0:\n",
    "            winner = \"A\"\n",
    "            loser = \"B\"\n",
    "            total_reps = reps-1\n",
    "        \n",
    "    return total_reps"
   ]
  },
  {
   "cell_type": "markdown",
   "metadata": {},
   "source": [
    "### Create a Pandas data frame to store the games and run a simulation of 10,000 games \n",
    "\n",
    "This cell block creates a Pandas data frame to store the information from 10,000 repeated runs of the game() function. The output is the first 5 rows of the Pandas data frame. "
   ]
  },
  {
   "cell_type": "code",
   "execution_count": 4,
   "metadata": {},
   "outputs": [
    {
     "name": "stdout",
     "output_type": "stream",
     "text": [
      "Game  10000  Complete \n",
      "\n"
     ]
    },
    {
     "data": {
      "text/html": [
       "<div>\n",
       "<style scoped>\n",
       "    .dataframe tbody tr th:only-of-type {\n",
       "        vertical-align: middle;\n",
       "    }\n",
       "\n",
       "    .dataframe tbody tr th {\n",
       "        vertical-align: top;\n",
       "    }\n",
       "\n",
       "    .dataframe thead th {\n",
       "        text-align: right;\n",
       "    }\n",
       "</style>\n",
       "<table border=\"1\" class=\"dataframe\">\n",
       "  <thead>\n",
       "    <tr style=\"text-align: right;\">\n",
       "      <th></th>\n",
       "      <th>A Roll</th>\n",
       "      <th>B Roll</th>\n",
       "      <th>A's First Roll</th>\n",
       "      <th>B's First Roll</th>\n",
       "      <th>Final A</th>\n",
       "      <th>Final B</th>\n",
       "      <th>Final Pot</th>\n",
       "      <th>Winner</th>\n",
       "      <th>Loser</th>\n",
       "      <th>Total Cycles</th>\n",
       "    </tr>\n",
       "  </thead>\n",
       "  <tbody>\n",
       "    <tr>\n",
       "      <th>1</th>\n",
       "      <td>[2, 2, 3, 1, 1, 6, 6, 3, 4, 1, 4, 5, 3, 1, 5, ...</td>\n",
       "      <td>[6, 2, 2, 4, 5, 2, 5, 3, 4, 1, 4, 2, 4, 5, 2, ...</td>\n",
       "      <td>2</td>\n",
       "      <td>6</td>\n",
       "      <td>6</td>\n",
       "      <td>-1</td>\n",
       "      <td>5</td>\n",
       "      <td>A</td>\n",
       "      <td>B</td>\n",
       "      <td>52</td>\n",
       "    </tr>\n",
       "    <tr>\n",
       "      <th>2</th>\n",
       "      <td>[5, 5, 4, 5, 1, 3, 4]</td>\n",
       "      <td>[2, 3, 3, 2, 2, 2, 1]</td>\n",
       "      <td>5</td>\n",
       "      <td>2</td>\n",
       "      <td>-1</td>\n",
       "      <td>10</td>\n",
       "      <td>1</td>\n",
       "      <td>B</td>\n",
       "      <td>A</td>\n",
       "      <td>7</td>\n",
       "    </tr>\n",
       "    <tr>\n",
       "      <th>3</th>\n",
       "      <td>[3, 6, 3, 4, 6, 2]</td>\n",
       "      <td>[3, 5, 6, 4, 6, 6]</td>\n",
       "      <td>3</td>\n",
       "      <td>3</td>\n",
       "      <td>10</td>\n",
       "      <td>-1</td>\n",
       "      <td>1</td>\n",
       "      <td>A</td>\n",
       "      <td>B</td>\n",
       "      <td>6</td>\n",
       "    </tr>\n",
       "    <tr>\n",
       "      <th>4</th>\n",
       "      <td>[3, 5, 2, 4, 2, 1, 6, 2, 3, 4]</td>\n",
       "      <td>[2, 1, 6, 4, 6, 4, 5, 3, 3, 4]</td>\n",
       "      <td>3</td>\n",
       "      <td>2</td>\n",
       "      <td>9</td>\n",
       "      <td>-1</td>\n",
       "      <td>2</td>\n",
       "      <td>A</td>\n",
       "      <td>B</td>\n",
       "      <td>10</td>\n",
       "    </tr>\n",
       "    <tr>\n",
       "      <th>5</th>\n",
       "      <td>[6, 4, 3, 6, 3]</td>\n",
       "      <td>[6, 4, 4, 6, 6]</td>\n",
       "      <td>6</td>\n",
       "      <td>6</td>\n",
       "      <td>7</td>\n",
       "      <td>-1</td>\n",
       "      <td>4</td>\n",
       "      <td>A</td>\n",
       "      <td>B</td>\n",
       "      <td>5</td>\n",
       "    </tr>\n",
       "  </tbody>\n",
       "</table>\n",
       "</div>"
      ],
      "text/plain": [
       "                                              A Roll  \\\n",
       "1  [2, 2, 3, 1, 1, 6, 6, 3, 4, 1, 4, 5, 3, 1, 5, ...   \n",
       "2                              [5, 5, 4, 5, 1, 3, 4]   \n",
       "3                                 [3, 6, 3, 4, 6, 2]   \n",
       "4                     [3, 5, 2, 4, 2, 1, 6, 2, 3, 4]   \n",
       "5                                    [6, 4, 3, 6, 3]   \n",
       "\n",
       "                                              B Roll A's First Roll  \\\n",
       "1  [6, 2, 2, 4, 5, 2, 5, 3, 4, 1, 4, 2, 4, 5, 2, ...              2   \n",
       "2                              [2, 3, 3, 2, 2, 2, 1]              5   \n",
       "3                                 [3, 5, 6, 4, 6, 6]              3   \n",
       "4                     [2, 1, 6, 4, 6, 4, 5, 3, 3, 4]              3   \n",
       "5                                    [6, 4, 4, 6, 6]              6   \n",
       "\n",
       "  B's First Roll Final A Final B Final Pot Winner Loser Total Cycles  \n",
       "1              6       6      -1         5      A     B           52  \n",
       "2              2      -1      10         1      B     A            7  \n",
       "3              3      10      -1         1      A     B            6  \n",
       "4              2       9      -1         2      A     B           10  \n",
       "5              6       7      -1         4      A     B            5  "
      ]
     },
     "execution_count": 4,
     "metadata": {},
     "output_type": "execute_result"
    }
   ],
   "source": [
    "# create a Pandas data frame to store all of the simulations information\n",
    "# create an index range for the data frame \n",
    "index = range(1,10001)\n",
    "# assign column names \n",
    "columns = [\"A Roll\", \"B Roll\", \"A's First Roll\", \"B's First Roll\", \"Final A\", \"Final B\", \"Final Pot\", \"Winner\", \"Loser\", \"Total Cycles\"]\n",
    "# create a data frame \n",
    "df = pd.DataFrame(index=index, columns=columns)\n",
    "\n",
    "\n",
    "\n",
    "# simulate the game 10,000 times, and record each output into the dataframe \n",
    "for i in range(1, 10001):\n",
    "    a, b, A_1, B_1, A, B, P, w, l, t = game()\n",
    "    df['A Roll'][i] = a\n",
    "    df['B Roll'][i] = b\n",
    "    df[\"A's First Roll\"][i] = A_1\n",
    "    df[\"B's First Roll\"][i] = B_1\n",
    "    df['Final A'][i] = A\n",
    "    df['Final B'][i] = B\n",
    "    df['Final Pot'][i] = P\n",
    "    df['Winner'][i] = w\n",
    "    df['Loser'][i] = l\n",
    "    df['Total Cycles'][i] = t\n",
    "    if i == 10000:\n",
    "        print(\"Game \", i, \" Complete\", \"\\n\")\n",
    "df.head()"
   ]
  },
  {
   "cell_type": "markdown",
   "metadata": {},
   "source": [
    "### Create a function, expected_cycles(n), which simulates the game n times \n",
    "\n",
    "This function will be used to iterate the game n times, and return the average number of cycles per game. "
   ]
  },
  {
   "cell_type": "code",
   "execution_count": 5,
   "metadata": {},
   "outputs": [],
   "source": [
    "# create a function, expected_cycles(n)\n",
    "\n",
    "def expected_cycles(n):\n",
    "    # initialize a variable to track the average number of cycles played over repeated trials of the game\n",
    "    total = 0\n",
    "    # repeat the game_cycles() function n times \n",
    "    for i in range(n):\n",
    "        # track the total number of cycles\n",
    "        total = total + game_cycles()\n",
    "    # return the average number of cycles completed over n repeated simulations of the game \n",
    "    return total/n"
   ]
  },
  {
   "cell_type": "markdown",
   "metadata": {},
   "source": [
    "### Use a for loop to iterate the expected_cycles() function 20 times. \n",
    "\n",
    "This for loop will iterate the expected_cycles() function 2^n times. Here, n = 20, so the range of games goes from 2 games to 1,048,576 games. You can change n by changing 20 to any number you choose to see what the expected value will be with different values of repeated trials. \n",
    "\n",
    "The output here is the average number of trials over 2^n games. "
   ]
  },
  {
   "cell_type": "code",
   "execution_count": 6,
   "metadata": {},
   "outputs": [
    {
     "name": "stdout",
     "output_type": "stream",
     "text": [
      "7.5\n",
      "21.75\n",
      "14.5\n",
      "16.6875\n",
      "17.46875\n",
      "14.6875\n",
      "16.9375\n",
      "17.81640625\n",
      "16.708984375\n",
      "17.208984375\n",
      "17.4111328125\n",
      "17.773681640625\n",
      "17.3519287109375\n",
      "17.572998046875\n",
      "17.619049072265625\n",
      "17.519775390625\n",
      "17.532875061035156\n",
      "17.586463928222656\n",
      "17.55126953125\n"
     ]
    }
   ],
   "source": [
    "# use a for loop to repeat the simulation 20 times, with varying levels of n, using 2^n to display that\n",
    "# for large numbers of n, the average number of cycles played per game approaches 17.5\n",
    "\n",
    "for i in range(1,20):\n",
    "    e_v = []\n",
    "    expected_value = expected_cycles(2**i)\n",
    "    print(expected_cycles(2**i))\n",
    "    e_v.append(expected_value)"
   ]
  },
  {
   "cell_type": "markdown",
   "metadata": {},
   "source": [
    "### Minimum, Maximum, and Mean values of total cycles over 10,000 games. "
   ]
  },
  {
   "cell_type": "code",
   "execution_count": 7,
   "metadata": {},
   "outputs": [
    {
     "name": "stdout",
     "output_type": "stream",
     "text": [
      "5\n",
      "118\n",
      "17.693\n",
      "10000\n"
     ]
    }
   ],
   "source": [
    "print(min(df['Total Cycles']))\n",
    "print(max(df['Total Cycles']))\n",
    "print(statistics.mean(df['Total Cycles']))\n",
    "print(len(df['Total Cycles']))"
   ]
  },
  {
   "cell_type": "markdown",
   "metadata": {},
   "source": [
    "### Histogram of the number of cycles per game over 10,000 games"
   ]
  },
  {
   "cell_type": "code",
   "execution_count": 8,
   "metadata": {},
   "outputs": [
    {
     "data": {
      "text/plain": [
       "<matplotlib.axes._subplots.AxesSubplot at 0x22b602a6d88>"
      ]
     },
     "execution_count": 8,
     "metadata": {},
     "output_type": "execute_result"
    },
    {
     "data": {
      "image/png": "[encoded data removed]",
      "text/plain": [
       "<Figure size 432x288 with 1 Axes>"
      ]
     },
     "metadata": {
      "needs_background": "light"
     },
     "output_type": "display_data"
    }
   ],
   "source": [
    "import matplotlib.pyplot as plt\n",
    "# display a histogram of the number of cycles played for each game \n",
    "hist_cycles = df['Total Cycles'].hist(bins=20)\n",
    "hist_cycles"
   ]
  },
  {
   "cell_type": "markdown",
   "metadata": {},
   "source": [
    "### Value counts of the number of times Player A and Player B won the game "
   ]
  },
  {
   "cell_type": "code",
   "execution_count": 9,
   "metadata": {},
   "outputs": [
    {
     "data": {
      "text/plain": [
       "A    5002\n",
       "B    4998\n",
       "Name: Winner, dtype: int64"
      ]
     },
     "execution_count": 9,
     "metadata": {},
     "output_type": "execute_result"
    }
   ],
   "source": [
    "# display who won and who lost \n",
    "df['Winner'].value_counts()"
   ]
  },
  {
   "cell_type": "markdown",
   "metadata": {},
   "source": [
    "### Distribution of Player A's Die Rolls, Graphically"
   ]
  },
  {
   "cell_type": "code",
   "execution_count": 10,
   "metadata": {},
   "outputs": [
    {
     "data": {
      "text/plain": [
       "<matplotlib.axes._subplots.AxesSubplot at 0x22b60b096c8>"
      ]
     },
     "execution_count": 10,
     "metadata": {},
     "output_type": "execute_result"
    },
    {
     "data": {
      "image/png": "[encoded data removed]",
      "text/plain": [
       "<Figure size 432x288 with 1 Axes>"
      ]
     },
     "metadata": {
      "needs_background": "light"
     },
     "output_type": "display_data"
    }
   ],
   "source": [
    "# distribution of Player A's die rolls \n",
    "alist =[]\n",
    "for x in df['A Roll']:\n",
    "    alist.extend(x)\n",
    "a_series = pd.Series(alist)\n",
    "hist_as = a_series.hist(bins = 6)\n",
    "hist_as.set_xlabel(\"Player A's Die Roll\")\n",
    "hist_as.set_ylabel(\"Number of Rolls\")\n",
    "# show histogram\n",
    "hist_as"
   ]
  },
  {
   "cell_type": "markdown",
   "metadata": {},
   "source": [
    "### Summary Statistics for Player A's Rolls"
   ]
  },
  {
   "cell_type": "code",
   "execution_count": 11,
   "metadata": {},
   "outputs": [
    {
     "data": {
      "text/plain": [
       "count    176930.000000\n",
       "mean          3.500916\n",
       "std           1.707182\n",
       "min           1.000000\n",
       "25%           2.000000\n",
       "50%           3.000000\n",
       "75%           5.000000\n",
       "max           6.000000\n",
       "dtype: float64"
      ]
     },
     "execution_count": 11,
     "metadata": {},
     "output_type": "execute_result"
    }
   ],
   "source": [
    "a_series.describe()"
   ]
  },
  {
   "cell_type": "markdown",
   "metadata": {},
   "source": [
    "### Distribution of Player A's Rolls, displayed as percentages"
   ]
  },
  {
   "cell_type": "code",
   "execution_count": 12,
   "metadata": {},
   "outputs": [
    {
     "data": {
      "text/plain": [
       "3    0.168287\n",
       "6    0.167622\n",
       "2    0.167520\n",
       "5    0.167514\n",
       "4    0.167077\n",
       "1    0.167008\n",
       "dtype: float64"
      ]
     },
     "execution_count": 12,
     "metadata": {},
     "output_type": "execute_result"
    }
   ],
   "source": [
    "# distribution of player A's rolls \n",
    "values_a = a_series.value_counts()\n",
    "values_a/176045"
   ]
  },
  {
   "cell_type": "markdown",
   "metadata": {},
   "source": [
    "### Distribution of Player B's Die Rolls, Graphically"
   ]
  },
  {
   "cell_type": "code",
   "execution_count": 13,
   "metadata": {},
   "outputs": [
    {
     "data": {
      "text/plain": [
       "<matplotlib.axes._subplots.AxesSubplot at 0x22b60dcdfc8>"
      ]
     },
     "execution_count": 13,
     "metadata": {},
     "output_type": "execute_result"
    },
    {
     "data": {
      "image/png": "[encoded data removed]",
      "text/plain": [
       "<Figure size 432x288 with 1 Axes>"
      ]
     },
     "metadata": {
      "needs_background": "light"
     },
     "output_type": "display_data"
    }
   ],
   "source": [
    "# distribution of Player B's rolls \n",
    "blist =[]\n",
    "for x in df['B Roll']:\n",
    "    blist.extend(x)\n",
    "b_series = pd.Series(blist)\n",
    "hist_bs = b_series.hist(bins = 6)\n",
    "hist_bs.set_xlabel(\"Player B's Die Roll\")\n",
    "hist_bs.set_ylabel(\"Number of Rolls\")\n",
    "hist_bs"
   ]
  },
  {
   "cell_type": "markdown",
   "metadata": {},
   "source": [
    "### Distribution of Player B's Rolls, displayed as percentages"
   ]
  },
  {
   "cell_type": "code",
   "execution_count": 14,
   "metadata": {},
   "outputs": [
    {
     "data": {
      "text/plain": [
       "2    0.168406\n",
       "5    0.167940\n",
       "6    0.167508\n",
       "1    0.167406\n",
       "3    0.167156\n",
       "4    0.166611\n",
       "dtype: float64"
      ]
     },
     "execution_count": 14,
     "metadata": {},
     "output_type": "execute_result"
    }
   ],
   "source": [
    "# distribution of player B's rolls \n",
    "values_b = b_series.value_counts()\n",
    "values_b/176045"
   ]
  },
  {
   "cell_type": "markdown",
   "metadata": {},
   "source": [
    "### Summary Statistics of Player B's Die Rolls"
   ]
  },
  {
   "cell_type": "code",
   "execution_count": 15,
   "metadata": {},
   "outputs": [
    {
     "data": {
      "text/plain": [
       "count    176930.000000\n",
       "mean          3.499288\n",
       "std           1.708443\n",
       "min           1.000000\n",
       "25%           2.000000\n",
       "50%           3.000000\n",
       "75%           5.000000\n",
       "max           6.000000\n",
       "dtype: float64"
      ]
     },
     "execution_count": 15,
     "metadata": {},
     "output_type": "execute_result"
    }
   ],
   "source": [
    "b_series.describe()"
   ]
  },
  {
   "cell_type": "markdown",
   "metadata": {},
   "source": [
    "### Box-Plot of Total Cycles over 10,000 Games"
   ]
  },
  {
   "cell_type": "code",
   "execution_count": 16,
   "metadata": {},
   "outputs": [
    {
     "data": {
      "text/plain": [
       "<matplotlib.axes._subplots.AxesSubplot at 0x22b60e45c48>"
      ]
     },
     "execution_count": 16,
     "metadata": {},
     "output_type": "execute_result"
    },
    {
     "data": {
      "image/png": "[encoded data removed]",
      "text/plain": [
       "<Figure size 432x288 with 1 Axes>"
      ]
     },
     "metadata": {
      "needs_background": "light"
     },
     "output_type": "display_data"
    }
   ],
   "source": [
    "df['Total Cycles'].plot.box()"
   ]
  },
  {
   "cell_type": "markdown",
   "metadata": {},
   "source": [
    "### Split the Outliers from the Original Data Frame\n",
    "\n",
    "Output the first 5 rows of the new outliers data frame "
   ]
  },
  {
   "cell_type": "code",
   "execution_count": 17,
   "metadata": {},
   "outputs": [
    {
     "name": "stdout",
     "output_type": "stream",
     "text": [
      "99\n"
     ]
    },
    {
     "data": {
      "text/html": [
       "<div>\n",
       "<style scoped>\n",
       "    .dataframe tbody tr th:only-of-type {\n",
       "        vertical-align: middle;\n",
       "    }\n",
       "\n",
       "    .dataframe tbody tr th {\n",
       "        vertical-align: top;\n",
       "    }\n",
       "\n",
       "    .dataframe thead th {\n",
       "        text-align: right;\n",
       "    }\n",
       "</style>\n",
       "<table border=\"1\" class=\"dataframe\">\n",
       "  <thead>\n",
       "    <tr style=\"text-align: right;\">\n",
       "      <th></th>\n",
       "      <th>A Roll</th>\n",
       "      <th>B Roll</th>\n",
       "      <th>A's First Roll</th>\n",
       "      <th>B's First Roll</th>\n",
       "      <th>Final A</th>\n",
       "      <th>Final B</th>\n",
       "      <th>Final Pot</th>\n",
       "      <th>Winner</th>\n",
       "      <th>Loser</th>\n",
       "      <th>Total Cycles</th>\n",
       "    </tr>\n",
       "  </thead>\n",
       "  <tbody>\n",
       "    <tr>\n",
       "      <th>115</th>\n",
       "      <td>[3, 5, 2, 4, 2, 1, 4, 3, 6, 1, 3, 2, 6, 1, 6, ...</td>\n",
       "      <td>[2, 3, 1, 1, 5, 5, 5, 4, 2, 1, 3, 5, 1, 3, 4, ...</td>\n",
       "      <td>3</td>\n",
       "      <td>2</td>\n",
       "      <td>-1</td>\n",
       "      <td>11</td>\n",
       "      <td>0</td>\n",
       "      <td>B</td>\n",
       "      <td>A</td>\n",
       "      <td>74</td>\n",
       "    </tr>\n",
       "    <tr>\n",
       "      <th>156</th>\n",
       "      <td>[1, 5, 2, 1, 3, 2, 4, 5, 3, 1, 2, 6, 4, 6, 4, ...</td>\n",
       "      <td>[1, 3, 1, 2, 3, 6, 2, 5, 3, 6, 2, 5, 4, 1, 3, ...</td>\n",
       "      <td>1</td>\n",
       "      <td>1</td>\n",
       "      <td>-1</td>\n",
       "      <td>6</td>\n",
       "      <td>5</td>\n",
       "      <td>B</td>\n",
       "      <td>A</td>\n",
       "      <td>80</td>\n",
       "    </tr>\n",
       "    <tr>\n",
       "      <th>220</th>\n",
       "      <td>[3, 4, 3, 1, 2, 6, 3, 1, 5, 3, 3, 4, 4, 6, 4, ...</td>\n",
       "      <td>[3, 1, 1, 4, 6, 5, 4, 1, 3, 4, 5, 2, 2, 1, 4, ...</td>\n",
       "      <td>3</td>\n",
       "      <td>3</td>\n",
       "      <td>-1</td>\n",
       "      <td>5</td>\n",
       "      <td>6</td>\n",
       "      <td>B</td>\n",
       "      <td>A</td>\n",
       "      <td>86</td>\n",
       "    </tr>\n",
       "    <tr>\n",
       "      <th>271</th>\n",
       "      <td>[1, 6, 3, 3, 3, 3, 3, 1, 4, 2, 6, 1, 2, 2, 6, ...</td>\n",
       "      <td>[6, 2, 2, 3, 6, 6, 6, 4, 1, 4, 1, 3, 6, 5, 3, ...</td>\n",
       "      <td>1</td>\n",
       "      <td>6</td>\n",
       "      <td>-1</td>\n",
       "      <td>9</td>\n",
       "      <td>2</td>\n",
       "      <td>B</td>\n",
       "      <td>A</td>\n",
       "      <td>78</td>\n",
       "    </tr>\n",
       "    <tr>\n",
       "      <th>468</th>\n",
       "      <td>[5, 1, 2, 1, 3, 6, 2, 1, 4, 1, 4, 1, 2, 5, 3, ...</td>\n",
       "      <td>[3, 4, 6, 3, 5, 6, 4, 2, 3, 6, 3, 3, 5, 4, 3, ...</td>\n",
       "      <td>5</td>\n",
       "      <td>3</td>\n",
       "      <td>-1</td>\n",
       "      <td>7</td>\n",
       "      <td>4</td>\n",
       "      <td>B</td>\n",
       "      <td>A</td>\n",
       "      <td>69</td>\n",
       "    </tr>\n",
       "  </tbody>\n",
       "</table>\n",
       "</div>"
      ],
      "text/plain": [
       "                                                A Roll  \\\n",
       "115  [3, 5, 2, 4, 2, 1, 4, 3, 6, 1, 3, 2, 6, 1, 6, ...   \n",
       "156  [1, 5, 2, 1, 3, 2, 4, 5, 3, 1, 2, 6, 4, 6, 4, ...   \n",
       "220  [3, 4, 3, 1, 2, 6, 3, 1, 5, 3, 3, 4, 4, 6, 4, ...   \n",
       "271  [1, 6, 3, 3, 3, 3, 3, 1, 4, 2, 6, 1, 2, 2, 6, ...   \n",
       "468  [5, 1, 2, 1, 3, 6, 2, 1, 4, 1, 4, 1, 2, 5, 3, ...   \n",
       "\n",
       "                                                B Roll A's First Roll  \\\n",
       "115  [2, 3, 1, 1, 5, 5, 5, 4, 2, 1, 3, 5, 1, 3, 4, ...              3   \n",
       "156  [1, 3, 1, 2, 3, 6, 2, 5, 3, 6, 2, 5, 4, 1, 3, ...              1   \n",
       "220  [3, 1, 1, 4, 6, 5, 4, 1, 3, 4, 5, 2, 2, 1, 4, ...              3   \n",
       "271  [6, 2, 2, 3, 6, 6, 6, 4, 1, 4, 1, 3, 6, 5, 3, ...              1   \n",
       "468  [3, 4, 6, 3, 5, 6, 4, 2, 3, 6, 3, 3, 5, 4, 3, ...              5   \n",
       "\n",
       "    B's First Roll Final A Final B Final Pot Winner Loser Total Cycles  \n",
       "115              2      -1      11         0      B     A           74  \n",
       "156              1      -1       6         5      B     A           80  \n",
       "220              3      -1       5         6      B     A           86  \n",
       "271              6      -1       9         2      B     A           78  \n",
       "468              3      -1       7         4      B     A           69  "
      ]
     },
     "execution_count": 17,
     "metadata": {},
     "output_type": "execute_result"
    }
   ],
   "source": [
    "q_low = df[\"Total Cycles\"].quantile(0.01)\n",
    "q_hi  = df[\"Total Cycles\"].quantile(0.99)\n",
    "\n",
    "df_outliers_high = df[(df[\"Total Cycles\"] > q_hi)]\n",
    "df_filtered = df[(df[\"Total Cycles\"] < q_hi)]\n",
    "print(len(df_outliers_high))\n",
    "df_outliers_high.head()"
   ]
  },
  {
   "cell_type": "markdown",
   "metadata": {},
   "source": [
    "### Split the games with 90 or more Total Cycles from the Outliers Data Frame\n",
    "\n",
    "Display the first few rows of the highest outliers data frame "
   ]
  },
  {
   "cell_type": "code",
   "execution_count": 18,
   "metadata": {},
   "outputs": [],
   "source": [
    "highest = df_outliers_high[(df_outliers_high['Total Cycles'] >= 90)]"
   ]
  },
  {
   "cell_type": "code",
   "execution_count": 19,
   "metadata": {},
   "outputs": [
    {
     "name": "stdout",
     "output_type": "stream",
     "text": [
      "15\n"
     ]
    },
    {
     "data": {
      "text/html": [
       "<div>\n",
       "<style scoped>\n",
       "    .dataframe tbody tr th:only-of-type {\n",
       "        vertical-align: middle;\n",
       "    }\n",
       "\n",
       "    .dataframe tbody tr th {\n",
       "        vertical-align: top;\n",
       "    }\n",
       "\n",
       "    .dataframe thead th {\n",
       "        text-align: right;\n",
       "    }\n",
       "</style>\n",
       "<table border=\"1\" class=\"dataframe\">\n",
       "  <thead>\n",
       "    <tr style=\"text-align: right;\">\n",
       "      <th></th>\n",
       "      <th>A Roll</th>\n",
       "      <th>B Roll</th>\n",
       "      <th>A's First Roll</th>\n",
       "      <th>B's First Roll</th>\n",
       "      <th>Final A</th>\n",
       "      <th>Final B</th>\n",
       "      <th>Final Pot</th>\n",
       "      <th>Winner</th>\n",
       "      <th>Loser</th>\n",
       "      <th>Total Cycles</th>\n",
       "    </tr>\n",
       "  </thead>\n",
       "  <tbody>\n",
       "    <tr>\n",
       "      <th>472</th>\n",
       "      <td>[4, 4, 2, 3, 1, 5, 2, 1, 4, 5, 1, 5, 2, 3, 4, ...</td>\n",
       "      <td>[3, 5, 2, 4, 2, 2, 3, 3, 3, 4, 4, 3, 4, 1, 3, ...</td>\n",
       "      <td>4</td>\n",
       "      <td>3</td>\n",
       "      <td>9</td>\n",
       "      <td>-1</td>\n",
       "      <td>2</td>\n",
       "      <td>A</td>\n",
       "      <td>B</td>\n",
       "      <td>91</td>\n",
       "    </tr>\n",
       "    <tr>\n",
       "      <th>496</th>\n",
       "      <td>[2, 2, 2, 2, 5, 1, 1, 2, 4, 3, 5, 3, 2, 2, 6, ...</td>\n",
       "      <td>[6, 2, 2, 2, 5, 4, 3, 5, 2, 2, 2, 3, 2, 3, 2, ...</td>\n",
       "      <td>2</td>\n",
       "      <td>6</td>\n",
       "      <td>9</td>\n",
       "      <td>-1</td>\n",
       "      <td>2</td>\n",
       "      <td>A</td>\n",
       "      <td>B</td>\n",
       "      <td>94</td>\n",
       "    </tr>\n",
       "    <tr>\n",
       "      <th>1362</th>\n",
       "      <td>[4, 6, 1, 3, 6, 6, 3, 5, 2, 2, 5, 1, 6, 5, 6, ...</td>\n",
       "      <td>[6, 5, 1, 2, 5, 5, 2, 5, 2, 3, 2, 1, 4, 6, 4, ...</td>\n",
       "      <td>4</td>\n",
       "      <td>6</td>\n",
       "      <td>5</td>\n",
       "      <td>-1</td>\n",
       "      <td>6</td>\n",
       "      <td>A</td>\n",
       "      <td>B</td>\n",
       "      <td>91</td>\n",
       "    </tr>\n",
       "    <tr>\n",
       "      <th>1740</th>\n",
       "      <td>[6, 6, 1, 2, 6, 4, 5, 4, 1, 5, 4, 3, 4, 2, 3, ...</td>\n",
       "      <td>[5, 5, 1, 5, 3, 6, 1, 3, 3, 1, 2, 5, 5, 3, 3, ...</td>\n",
       "      <td>6</td>\n",
       "      <td>5</td>\n",
       "      <td>8</td>\n",
       "      <td>-1</td>\n",
       "      <td>3</td>\n",
       "      <td>A</td>\n",
       "      <td>B</td>\n",
       "      <td>108</td>\n",
       "    </tr>\n",
       "    <tr>\n",
       "      <th>2218</th>\n",
       "      <td>[5, 5, 3, 1, 5, 5, 1, 2, 1, 4, 3, 4, 3, 4, 4, ...</td>\n",
       "      <td>[4, 3, 5, 2, 3, 4, 1, 6, 4, 6, 4, 5, 2, 6, 1, ...</td>\n",
       "      <td>5</td>\n",
       "      <td>4</td>\n",
       "      <td>6</td>\n",
       "      <td>-1</td>\n",
       "      <td>5</td>\n",
       "      <td>A</td>\n",
       "      <td>B</td>\n",
       "      <td>99</td>\n",
       "    </tr>\n",
       "    <tr>\n",
       "      <th>2493</th>\n",
       "      <td>[3, 3, 2, 5, 1, 3, 3, 5, 5, 4, 6, 6, 2, 2, 6, ...</td>\n",
       "      <td>[2, 3, 6, 3, 6, 1, 2, 3, 3, 2, 6, 1, 4, 3, 2, ...</td>\n",
       "      <td>3</td>\n",
       "      <td>2</td>\n",
       "      <td>-1</td>\n",
       "      <td>10</td>\n",
       "      <td>1</td>\n",
       "      <td>B</td>\n",
       "      <td>A</td>\n",
       "      <td>118</td>\n",
       "    </tr>\n",
       "    <tr>\n",
       "      <th>2594</th>\n",
       "      <td>[4, 3, 6, 5, 5, 4, 3, 4, 2, 6, 3, 3, 5, 4, 1, ...</td>\n",
       "      <td>[3, 2, 4, 4, 1, 5, 1, 3, 4, 2, 1, 2, 6, 2, 1, ...</td>\n",
       "      <td>4</td>\n",
       "      <td>3</td>\n",
       "      <td>-1</td>\n",
       "      <td>1</td>\n",
       "      <td>10</td>\n",
       "      <td>B</td>\n",
       "      <td>A</td>\n",
       "      <td>96</td>\n",
       "    </tr>\n",
       "    <tr>\n",
       "      <th>4391</th>\n",
       "      <td>[2, 2, 1, 5, 3, 5, 3, 2, 3, 5, 1, 2, 6, 4, 6, ...</td>\n",
       "      <td>[6, 1, 2, 5, 2, 6, 1, 3, 1, 3, 2, 1, 3, 6, 3, ...</td>\n",
       "      <td>2</td>\n",
       "      <td>6</td>\n",
       "      <td>6</td>\n",
       "      <td>-1</td>\n",
       "      <td>5</td>\n",
       "      <td>A</td>\n",
       "      <td>B</td>\n",
       "      <td>91</td>\n",
       "    </tr>\n",
       "    <tr>\n",
       "      <th>5287</th>\n",
       "      <td>[3, 3, 3, 5, 2, 3, 5, 4, 3, 5, 6, 5, 5, 3, 5, ...</td>\n",
       "      <td>[1, 2, 4, 1, 6, 3, 6, 5, 2, 5, 1, 4, 1, 2, 4, ...</td>\n",
       "      <td>3</td>\n",
       "      <td>1</td>\n",
       "      <td>7</td>\n",
       "      <td>-1</td>\n",
       "      <td>4</td>\n",
       "      <td>A</td>\n",
       "      <td>B</td>\n",
       "      <td>100</td>\n",
       "    </tr>\n",
       "    <tr>\n",
       "      <th>7361</th>\n",
       "      <td>[1, 2, 5, 2, 2, 2, 3, 4, 2, 2, 6, 4, 3, 5, 2, ...</td>\n",
       "      <td>[3, 3, 6, 3, 5, 6, 3, 5, 1, 5, 2, 4, 2, 3, 5, ...</td>\n",
       "      <td>1</td>\n",
       "      <td>3</td>\n",
       "      <td>8</td>\n",
       "      <td>-1</td>\n",
       "      <td>3</td>\n",
       "      <td>A</td>\n",
       "      <td>B</td>\n",
       "      <td>111</td>\n",
       "    </tr>\n",
       "    <tr>\n",
       "      <th>7651</th>\n",
       "      <td>[2, 3, 6, 3, 1, 1, 5, 2, 4, 4, 4, 3, 1, 4, 5, ...</td>\n",
       "      <td>[3, 1, 5, 2, 6, 1, 6, 1, 5, 3, 1, 2, 3, 4, 2, ...</td>\n",
       "      <td>2</td>\n",
       "      <td>3</td>\n",
       "      <td>-1</td>\n",
       "      <td>8</td>\n",
       "      <td>3</td>\n",
       "      <td>B</td>\n",
       "      <td>A</td>\n",
       "      <td>93</td>\n",
       "    </tr>\n",
       "    <tr>\n",
       "      <th>8553</th>\n",
       "      <td>[2, 3, 2, 5, 2, 1, 4, 1, 1, 3, 6, 2, 1, 2, 3, ...</td>\n",
       "      <td>[3, 4, 3, 6, 4, 3, 1, 3, 2, 2, 2, 4, 6, 2, 5, ...</td>\n",
       "      <td>2</td>\n",
       "      <td>3</td>\n",
       "      <td>-1</td>\n",
       "      <td>9</td>\n",
       "      <td>2</td>\n",
       "      <td>B</td>\n",
       "      <td>A</td>\n",
       "      <td>117</td>\n",
       "    </tr>\n",
       "    <tr>\n",
       "      <th>8919</th>\n",
       "      <td>[5, 4, 3, 2, 4, 3, 5, 1, 3, 5, 1, 1, 1, 5, 2, ...</td>\n",
       "      <td>[5, 2, 4, 5, 4, 2, 4, 4, 4, 3, 3, 6, 3, 3, 1, ...</td>\n",
       "      <td>5</td>\n",
       "      <td>5</td>\n",
       "      <td>-1</td>\n",
       "      <td>5</td>\n",
       "      <td>6</td>\n",
       "      <td>B</td>\n",
       "      <td>A</td>\n",
       "      <td>95</td>\n",
       "    </tr>\n",
       "    <tr>\n",
       "      <th>9641</th>\n",
       "      <td>[2, 2, 4, 4, 1, 3, 6, 3, 6, 2, 2, 3, 1, 1, 1, ...</td>\n",
       "      <td>[3, 2, 1, 6, 4, 1, 3, 1, 6, 3, 3, 6, 4, 1, 1, ...</td>\n",
       "      <td>2</td>\n",
       "      <td>3</td>\n",
       "      <td>-1</td>\n",
       "      <td>4</td>\n",
       "      <td>7</td>\n",
       "      <td>B</td>\n",
       "      <td>A</td>\n",
       "      <td>93</td>\n",
       "    </tr>\n",
       "    <tr>\n",
       "      <th>9751</th>\n",
       "      <td>[3, 2, 4, 4, 3, 3, 4, 6, 6, 5, 1, 6, 2, 6, 3, ...</td>\n",
       "      <td>[1, 3, 3, 6, 4, 4, 2, 5, 5, 3, 5, 1, 3, 4, 1, ...</td>\n",
       "      <td>3</td>\n",
       "      <td>1</td>\n",
       "      <td>6</td>\n",
       "      <td>-1</td>\n",
       "      <td>5</td>\n",
       "      <td>A</td>\n",
       "      <td>B</td>\n",
       "      <td>106</td>\n",
       "    </tr>\n",
       "  </tbody>\n",
       "</table>\n",
       "</div>"
      ],
      "text/plain": [
       "                                                 A Roll  \\\n",
       "472   [4, 4, 2, 3, 1, 5, 2, 1, 4, 5, 1, 5, 2, 3, 4, ...   \n",
       "496   [2, 2, 2, 2, 5, 1, 1, 2, 4, 3, 5, 3, 2, 2, 6, ...   \n",
       "1362  [4, 6, 1, 3, 6, 6, 3, 5, 2, 2, 5, 1, 6, 5, 6, ...   \n",
       "1740  [6, 6, 1, 2, 6, 4, 5, 4, 1, 5, 4, 3, 4, 2, 3, ...   \n",
       "2218  [5, 5, 3, 1, 5, 5, 1, 2, 1, 4, 3, 4, 3, 4, 4, ...   \n",
       "2493  [3, 3, 2, 5, 1, 3, 3, 5, 5, 4, 6, 6, 2, 2, 6, ...   \n",
       "2594  [4, 3, 6, 5, 5, 4, 3, 4, 2, 6, 3, 3, 5, 4, 1, ...   \n",
       "4391  [2, 2, 1, 5, 3, 5, 3, 2, 3, 5, 1, 2, 6, 4, 6, ...   \n",
       "5287  [3, 3, 3, 5, 2, 3, 5, 4, 3, 5, 6, 5, 5, 3, 5, ...   \n",
       "7361  [1, 2, 5, 2, 2, 2, 3, 4, 2, 2, 6, 4, 3, 5, 2, ...   \n",
       "7651  [2, 3, 6, 3, 1, 1, 5, 2, 4, 4, 4, 3, 1, 4, 5, ...   \n",
       "8553  [2, 3, 2, 5, 2, 1, 4, 1, 1, 3, 6, 2, 1, 2, 3, ...   \n",
       "8919  [5, 4, 3, 2, 4, 3, 5, 1, 3, 5, 1, 1, 1, 5, 2, ...   \n",
       "9641  [2, 2, 4, 4, 1, 3, 6, 3, 6, 2, 2, 3, 1, 1, 1, ...   \n",
       "9751  [3, 2, 4, 4, 3, 3, 4, 6, 6, 5, 1, 6, 2, 6, 3, ...   \n",
       "\n",
       "                                                 B Roll A's First Roll  \\\n",
       "472   [3, 5, 2, 4, 2, 2, 3, 3, 3, 4, 4, 3, 4, 1, 3, ...              4   \n",
       "496   [6, 2, 2, 2, 5, 4, 3, 5, 2, 2, 2, 3, 2, 3, 2, ...              2   \n",
       "1362  [6, 5, 1, 2, 5, 5, 2, 5, 2, 3, 2, 1, 4, 6, 4, ...              4   \n",
       "1740  [5, 5, 1, 5, 3, 6, 1, 3, 3, 1, 2, 5, 5, 3, 3, ...              6   \n",
       "2218  [4, 3, 5, 2, 3, 4, 1, 6, 4, 6, 4, 5, 2, 6, 1, ...              5   \n",
       "2493  [2, 3, 6, 3, 6, 1, 2, 3, 3, 2, 6, 1, 4, 3, 2, ...              3   \n",
       "2594  [3, 2, 4, 4, 1, 5, 1, 3, 4, 2, 1, 2, 6, 2, 1, ...              4   \n",
       "4391  [6, 1, 2, 5, 2, 6, 1, 3, 1, 3, 2, 1, 3, 6, 3, ...              2   \n",
       "5287  [1, 2, 4, 1, 6, 3, 6, 5, 2, 5, 1, 4, 1, 2, 4, ...              3   \n",
       "7361  [3, 3, 6, 3, 5, 6, 3, 5, 1, 5, 2, 4, 2, 3, 5, ...              1   \n",
       "7651  [3, 1, 5, 2, 6, 1, 6, 1, 5, 3, 1, 2, 3, 4, 2, ...              2   \n",
       "8553  [3, 4, 3, 6, 4, 3, 1, 3, 2, 2, 2, 4, 6, 2, 5, ...              2   \n",
       "8919  [5, 2, 4, 5, 4, 2, 4, 4, 4, 3, 3, 6, 3, 3, 1, ...              5   \n",
       "9641  [3, 2, 1, 6, 4, 1, 3, 1, 6, 3, 3, 6, 4, 1, 1, ...              2   \n",
       "9751  [1, 3, 3, 6, 4, 4, 2, 5, 5, 3, 5, 1, 3, 4, 1, ...              3   \n",
       "\n",
       "     B's First Roll Final A Final B Final Pot Winner Loser Total Cycles  \n",
       "472               3       9      -1         2      A     B           91  \n",
       "496               6       9      -1         2      A     B           94  \n",
       "1362              6       5      -1         6      A     B           91  \n",
       "1740              5       8      -1         3      A     B          108  \n",
       "2218              4       6      -1         5      A     B           99  \n",
       "2493              2      -1      10         1      B     A          118  \n",
       "2594              3      -1       1        10      B     A           96  \n",
       "4391              6       6      -1         5      A     B           91  \n",
       "5287              1       7      -1         4      A     B          100  \n",
       "7361              3       8      -1         3      A     B          111  \n",
       "7651              3      -1       8         3      B     A           93  \n",
       "8553              3      -1       9         2      B     A          117  \n",
       "8919              5      -1       5         6      B     A           95  \n",
       "9641              3      -1       4         7      B     A           93  \n",
       "9751              1       6      -1         5      A     B          106  "
      ]
     },
     "execution_count": 19,
     "metadata": {},
     "output_type": "execute_result"
    }
   ],
   "source": [
    "print(len(highest))\n",
    "highest"
   ]
  },
  {
   "cell_type": "markdown",
   "metadata": {},
   "source": [
    "### Distribution of Player A's Die Rolls for Outlier Games"
   ]
  },
  {
   "cell_type": "code",
   "execution_count": 20,
   "metadata": {},
   "outputs": [
    {
     "data": {
      "text/plain": [
       "<matplotlib.axes._subplots.AxesSubplot at 0x22b610b8f08>"
      ]
     },
     "execution_count": 20,
     "metadata": {},
     "output_type": "execute_result"
    },
    {
     "data": {
      "image/png": "[encoded data removed]",
      "text/plain": [
       "<Figure size 432x288 with 1 Axes>"
      ]
     },
     "metadata": {
      "needs_background": "light"
     },
     "output_type": "display_data"
    }
   ],
   "source": [
    "high_alist =[]\n",
    "for x in highest['A Roll']:\n",
    "    high_alist.extend(x)\n",
    "high_a_series = pd.Series(high_alist)\n",
    "hist_high_a_series = high_a_series.hist(bins = 6)\n",
    "hist_high_a_series.set_xlabel(\"Player A's Die Roll in Outlier Games\")\n",
    "hist_high_a_series.set_ylabel(\"Number of Rolls\")\n",
    "hist_high_a_series"
   ]
  },
  {
   "cell_type": "markdown",
   "metadata": {},
   "source": [
    "### Distribution of Player B's Die Rolls for Outlier Games"
   ]
  },
  {
   "cell_type": "code",
   "execution_count": 21,
   "metadata": {},
   "outputs": [
    {
     "data": {
      "text/plain": [
       "<matplotlib.axes._subplots.AxesSubplot at 0x22b6111a808>"
      ]
     },
     "execution_count": 21,
     "metadata": {},
     "output_type": "execute_result"
    },
    {
     "data": {
      "image/png": "[encoded data removed]",
      "text/plain": [
       "<Figure size 432x288 with 1 Axes>"
      ]
     },
     "metadata": {
      "needs_background": "light"
     },
     "output_type": "display_data"
    }
   ],
   "source": [
    "high_blist =[]\n",
    "for x in highest['B Roll']:\n",
    "    high_blist.extend(x)\n",
    "high_b_series = pd.Series(high_blist)\n",
    "hist_high_b_series = high_b_series.hist(bins = 6)\n",
    "hist_high_b_series.set_xlabel(\"Player B's Die Roll in Outlier Games\")\n",
    "hist_high_b_series.set_ylabel(\"Number of Rolls\")\n",
    "hist_high_b_series"
   ]
  },
  {
   "cell_type": "markdown",
   "metadata": {},
   "source": [
    "### Summary Statistics of Player A's Die Rolls for Outlier Games"
   ]
  },
  {
   "cell_type": "code",
   "execution_count": 22,
   "metadata": {},
   "outputs": [
    {
     "data": {
      "text/plain": [
       "count    1503.000000\n",
       "mean        3.347971\n",
       "std         1.673999\n",
       "min         1.000000\n",
       "25%         2.000000\n",
       "50%         3.000000\n",
       "75%         5.000000\n",
       "max         6.000000\n",
       "dtype: float64"
      ]
     },
     "execution_count": 22,
     "metadata": {},
     "output_type": "execute_result"
    }
   ],
   "source": [
    "high_a_series.describe()"
   ]
  },
  {
   "cell_type": "markdown",
   "metadata": {},
   "source": [
    "### Distribution of Player A's Die Rolls for Outlier Games, displayed as percentages"
   ]
  },
  {
   "cell_type": "code",
   "execution_count": 24,
   "metadata": {},
   "outputs": [
    {
     "data": {
      "text/plain": [
       "2    0.200931\n",
       "1    0.171657\n",
       "3    0.170991\n",
       "5    0.165669\n",
       "4    0.155689\n",
       "6    0.135063\n",
       "dtype: float64"
      ]
     },
     "execution_count": 24,
     "metadata": {},
     "output_type": "execute_result"
    }
   ],
   "source": [
    "values_high_a = high_a_series.value_counts()\n",
    "values_high_a/1503"
   ]
  },
  {
   "cell_type": "markdown",
   "metadata": {},
   "source": [
    "### Summary Statistics of Player B's Die Rolls for Outlier Games"
   ]
  },
  {
   "cell_type": "code",
   "execution_count": 25,
   "metadata": {},
   "outputs": [
    {
     "data": {
      "text/plain": [
       "count    1503.000000\n",
       "mean        3.414504\n",
       "std         1.661975\n",
       "min         1.000000\n",
       "25%         2.000000\n",
       "50%         3.000000\n",
       "75%         5.000000\n",
       "max         6.000000\n",
       "dtype: float64"
      ]
     },
     "execution_count": 25,
     "metadata": {},
     "output_type": "execute_result"
    }
   ],
   "source": [
    "high_b_series.describe()"
   ]
  },
  {
   "cell_type": "markdown",
   "metadata": {},
   "source": [
    "### Distribution of Player B's Die Rolls for Outlier Games, displayed as percentages"
   ]
  },
  {
   "cell_type": "code",
   "execution_count": 26,
   "metadata": {},
   "outputs": [
    {
     "data": {
      "text/plain": [
       "3    0.202927\n",
       "2    0.186959\n",
       "5    0.155689\n",
       "1    0.155023\n",
       "6    0.150366\n",
       "4    0.149035\n",
       "dtype: float64"
      ]
     },
     "execution_count": 26,
     "metadata": {},
     "output_type": "execute_result"
    }
   ],
   "source": [
    "values_high_b = high_b_series.value_counts()\n",
    "values_high_b/1503"
   ]
  },
  {
   "cell_type": "markdown",
   "metadata": {},
   "source": [
    "### Distribution of Player A's First Die Roll, Overall"
   ]
  },
  {
   "cell_type": "code",
   "execution_count": 27,
   "metadata": {},
   "outputs": [
    {
     "data": {
      "text/plain": [
       "<matplotlib.axes._subplots.AxesSubplot at 0x22b611bf108>"
      ]
     },
     "execution_count": 27,
     "metadata": {},
     "output_type": "execute_result"
    },
    {
     "data": {
      "image/png": "[encoded data removed]",
      "text/plain": [
       "<Figure size 432x288 with 1 Axes>"
      ]
     },
     "metadata": {
      "needs_background": "light"
     },
     "output_type": "display_data"
    }
   ],
   "source": [
    "first_roll_a = df[\"A's First Roll\"]\n",
    "hist_first_roll_a = first_roll_a.hist(bins = 6)\n",
    "hist_first_roll_a.set_xlabel(\"Player A's First Die Roll From Each Game\")\n",
    "hist_first_roll_a.set_ylabel(\"Number of Rolls\")\n",
    "hist_first_roll_a"
   ]
  },
  {
   "cell_type": "markdown",
   "metadata": {},
   "source": [
    "### Distribution of Player A's First Die Roll Overall, displayed as percentages "
   ]
  },
  {
   "cell_type": "code",
   "execution_count": 28,
   "metadata": {},
   "outputs": [
    {
     "data": {
      "text/plain": [
       "3    0.1732\n",
       "4    0.1694\n",
       "5    0.1665\n",
       "1    0.1655\n",
       "2    0.1653\n",
       "6    0.1601\n",
       "Name: A's First Roll, dtype: float64"
      ]
     },
     "execution_count": 28,
     "metadata": {},
     "output_type": "execute_result"
    }
   ],
   "source": [
    "values_roll_a = first_roll_a.value_counts()\n",
    "values_roll_a/10000"
   ]
  },
  {
   "cell_type": "markdown",
   "metadata": {},
   "source": [
    "### Distribution of Player B's First Die Roll, Overall"
   ]
  },
  {
   "cell_type": "code",
   "execution_count": 29,
   "metadata": {},
   "outputs": [
    {
     "data": {
      "text/plain": [
       "<matplotlib.axes._subplots.AxesSubplot at 0x22b611d9788>"
      ]
     },
     "execution_count": 29,
     "metadata": {},
     "output_type": "execute_result"
    },
    {
     "data": {
      "image/png": "[encoded data removed]",
      "text/plain": [
       "<Figure size 432x288 with 1 Axes>"
      ]
     },
     "metadata": {
      "needs_background": "light"
     },
     "output_type": "display_data"
    }
   ],
   "source": [
    "first_roll_b = df[\"B's First Roll\"]\n",
    "hist_first_roll_b = first_roll_b.hist(bins = 6)\n",
    "hist_first_roll_b.set_xlabel(\"Player B's First Die Roll From Each Game\")\n",
    "hist_first_roll_b.set_ylabel(\"Number of Rolls\")\n",
    "hist_first_roll_b"
   ]
  },
  {
   "cell_type": "markdown",
   "metadata": {},
   "source": [
    "### Distribution of Player B's First Die Roll Overall, displayed as percentages "
   ]
  },
  {
   "cell_type": "code",
   "execution_count": 30,
   "metadata": {},
   "outputs": [
    {
     "data": {
      "text/plain": [
       "1    0.1691\n",
       "4    0.1689\n",
       "5    0.1667\n",
       "2    0.1653\n",
       "3    0.1652\n",
       "6    0.1648\n",
       "Name: B's First Roll, dtype: float64"
      ]
     },
     "execution_count": 30,
     "metadata": {},
     "output_type": "execute_result"
    }
   ],
   "source": [
    "values_roll_b = first_roll_b.value_counts()\n",
    "values_roll_b/10000"
   ]
  },
  {
   "cell_type": "markdown",
   "metadata": {},
   "source": [
    "### Average Cycles per Game where A's First Roll was a 4, 5, or 6"
   ]
  },
  {
   "cell_type": "code",
   "execution_count": 42,
   "metadata": {},
   "outputs": [
    {
     "name": "stdout",
     "output_type": "stream",
     "text": [
      "16.63064516129032\n"
     ]
    }
   ],
   "source": [
    "df_A_first_roll_456 = df[(df[\"A's First Roll\"] > 3)]\n",
    "print(statistics.mean(df_A_first_roll_456['Total Cycles']))"
   ]
  },
  {
   "cell_type": "markdown",
   "metadata": {},
   "source": [
    "### Average Cycles per Game where A's First Roll was a 1, 2, or 3"
   ]
  },
  {
   "cell_type": "code",
   "execution_count": 43,
   "metadata": {},
   "outputs": [
    {
     "name": "stdout",
     "output_type": "stream",
     "text": [
      "18.738492063492064\n"
     ]
    }
   ],
   "source": [
    "df_A_first_roll_123 = df[(df[\"A's First Roll\"] < 4)]\n",
    "print(statistics.mean(df_A_first_roll_123['Total Cycles']))"
   ]
  },
  {
   "cell_type": "markdown",
   "metadata": {},
   "source": [
    "### Average Cycles per Game where A's First Roll was a 1"
   ]
  },
  {
   "cell_type": "code",
   "execution_count": 44,
   "metadata": {},
   "outputs": [
    {
     "name": "stdout",
     "output_type": "stream",
     "text": [
      "18.35105740181269\n"
     ]
    }
   ],
   "source": [
    "df_A_first_roll_1 = df[(df[\"A's First Roll\"] == 1)]\n",
    "print(statistics.mean(df_A_first_roll_1['Total Cycles']))"
   ]
  },
  {
   "cell_type": "markdown",
   "metadata": {},
   "source": [
    "### Average Cycles per Game where A's First Roll was a 1"
   ]
  },
  {
   "cell_type": "code",
   "execution_count": 45,
   "metadata": {},
   "outputs": [
    {
     "name": "stdout",
     "output_type": "stream",
     "text": [
      "18.33530455351863\n"
     ]
    }
   ],
   "source": [
    "df_B_first_roll_1 = df[(df[\"B's First Roll\"] == 1)]\n",
    "print(statistics.mean(df_B_first_roll_1['Total Cycles']))"
   ]
  },
  {
   "cell_type": "markdown",
   "metadata": {},
   "source": [
    "### Average Cycles per Game where A's First Roll was a 4, 5, or 6"
   ]
  },
  {
   "cell_type": "code",
   "execution_count": 46,
   "metadata": {},
   "outputs": [
    {
     "name": "stdout",
     "output_type": "stream",
     "text": [
      "16.63064516129032\n"
     ]
    }
   ],
   "source": [
    "df_B_first_roll_456 = df[(df[\"A's First Roll\"] > 3)]\n",
    "print(statistics.mean(df_B_first_roll_456['Total Cycles']))"
   ]
  },
  {
   "cell_type": "markdown",
   "metadata": {},
   "source": [
    "### Average Cycles per Game where A's First Roll was a 1, 2, or 3"
   ]
  },
  {
   "cell_type": "code",
   "execution_count": 47,
   "metadata": {},
   "outputs": [
    {
     "name": "stdout",
     "output_type": "stream",
     "text": [
      "18.738492063492064\n"
     ]
    }
   ],
   "source": [
    "df_B_first_roll_123 = df[(df[\"A's First Roll\"] < 4)]\n",
    "print(statistics.mean(df_B_first_roll_123['Total Cycles']))"
   ]
  },
  {
   "cell_type": "markdown",
   "metadata": {},
   "source": [
    "### Distribution of Player A and Player B's First Rolls Where the Total Number of Cycles per Game is between 15 and 19"
   ]
  },
  {
   "cell_type": "code",
   "execution_count": 48,
   "metadata": {},
   "outputs": [
    {
     "name": "stdout",
     "output_type": "stream",
     "text": [
      "2    0.197019\n",
      "3    0.182761\n",
      "1    0.162022\n",
      "6    0.147116\n",
      "4    0.144524\n",
      "5    0.134154\n",
      "Name: A's First Roll, dtype: float64\n",
      "2    0.178224\n",
      "1    0.173040\n",
      "3    0.171095\n",
      "4    0.154245\n",
      "6    0.149060\n",
      "5    0.141931\n",
      "Name: B's First Roll, dtype: float64\n"
     ]
    }
   ],
   "source": [
    "avg_cycles = df[(df[\"Total Cycles\"] <= 19) & (df[\"Total Cycles\"] >= 15)]\n",
    "print(avg_cycles[\"A's First Roll\"].value_counts()/1543)\n",
    "print(avg_cycles[\"B's First Roll\"].value_counts()/1543)"
   ]
  },
  {
   "cell_type": "markdown",
   "metadata": {},
   "source": [
    "### Distribution of Player A and Player B's First Rolls Where the Total Number of Cycles per Game is Greater Than 19"
   ]
  },
  {
   "cell_type": "code",
   "execution_count": 38,
   "metadata": {},
   "outputs": [
    {
     "name": "stdout",
     "output_type": "stream",
     "text": [
      "3    0.189639\n",
      "2    0.182603\n",
      "1    0.172689\n",
      "4    0.157659\n",
      "5    0.154141\n",
      "6    0.152223\n",
      "Name: A's First Roll, dtype: float64\n",
      "3    0.192837\n",
      "1    0.185161\n",
      "2    0.182283\n",
      "6    0.153502\n",
      "5    0.147745\n",
      "4    0.147426\n",
      "Name: B's First Roll, dtype: float64\n"
     ]
    }
   ],
   "source": [
    "high_cycles = df[(df[\"Total Cycles\"] > 19)]\n",
    "print(high_cycles[\"A's First Roll\"].value_counts()/3127)\n",
    "print(high_cycles[\"B's First Roll\"].value_counts()/3127)"
   ]
  },
  {
   "cell_type": "markdown",
   "metadata": {},
   "source": [
    "### Distribution of Player A and Player B's First Rolls Where the Total Number of Cycles per Game is Less than 15"
   ]
  },
  {
   "cell_type": "code",
   "execution_count": 39,
   "metadata": {},
   "outputs": [
    {
     "name": "stdout",
     "output_type": "stream",
     "text": [
      "4    0.183490\n",
      "5    0.183114\n",
      "6    0.168480\n",
      "1    0.162289\n",
      "3    0.160788\n",
      "2    0.145966\n",
      "Name: A's First Roll, dtype: float64\n",
      "4    0.185741\n",
      "5    0.184991\n",
      "6    0.175985\n",
      "1    0.158537\n",
      "2    0.151595\n",
      "3    0.147280\n",
      "Name: B's First Roll, dtype: float64\n"
     ]
    }
   ],
   "source": [
    "low_cycles = df[(df[\"Total Cycles\"] < 15)]\n",
    "print(low_cycles[\"A's First Roll\"].value_counts()/5330)\n",
    "print(low_cycles[\"B's First Roll\"].value_counts()/5330)"
   ]
  },
  {
   "cell_type": "code",
   "execution_count": null,
   "metadata": {},
   "outputs": [],
   "source": []
  }
 ],
 "metadata": {
  "kernelspec": {
   "display_name": "Python 3",
   "language": "python",
   "name": "python3"
  },
  "language_info": {
   "codemirror_mode": {
    "name": "ipython",
    "version": 3
   },
   "file_extension": ".py",
   "mimetype": "text/x-python",
   "name": "python",
   "nbconvert_exporter": "python",
   "pygments_lexer": "ipython3",
   "version": "3.7.6"
  }
 },
 "nbformat": 4,
 "nbformat_minor": 4
}
